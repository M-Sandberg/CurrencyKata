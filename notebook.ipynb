{
 "cells": [
  {
   "cell_type": "code",
   "execution_count": null,
   "metadata": {},
   "outputs": [],
   "source": [
    "%pip install pandas"
   ]
  },
  {
   "cell_type": "code",
   "execution_count": 1,
   "metadata": {},
   "outputs": [],
   "source": [
    "from utils import (\n",
    "    select,\n",
    "    insert,\n",
    ")"
   ]
  },
  {
   "cell_type": "code",
   "execution_count": 2,
   "metadata": {},
   "outputs": [
    {
     "data": {
      "text/html": [
       "<div>\n",
       "<style scoped>\n",
       "    .dataframe tbody tr th:only-of-type {\n",
       "        vertical-align: middle;\n",
       "    }\n",
       "\n",
       "    .dataframe tbody tr th {\n",
       "        vertical-align: top;\n",
       "    }\n",
       "\n",
       "    .dataframe thead th {\n",
       "        text-align: right;\n",
       "    }\n",
       "</style>\n",
       "<table border=\"1\" class=\"dataframe\">\n",
       "  <thead>\n",
       "    <tr style=\"text-align: right;\">\n",
       "      <th></th>\n",
       "      <th>order_id</th>\n",
       "      <th>paid_date</th>\n",
       "      <th>order_total</th>\n",
       "      <th>site_name</th>\n",
       "      <th>site_country</th>\n",
       "      <th>currency</th>\n",
       "    </tr>\n",
       "  </thead>\n",
       "  <tbody>\n",
       "    <tr>\n",
       "      <th>0</th>\n",
       "      <td>1499999</td>\n",
       "      <td>2023-12-31</td>\n",
       "      <td>478.17</td>\n",
       "      <td>stickerapp</td>\n",
       "      <td>de</td>\n",
       "      <td>EUR</td>\n",
       "    </tr>\n",
       "    <tr>\n",
       "      <th>1</th>\n",
       "      <td>1499998</td>\n",
       "      <td>2023-12-31</td>\n",
       "      <td>505.67</td>\n",
       "      <td>stickerapp</td>\n",
       "      <td>de</td>\n",
       "      <td>EUR</td>\n",
       "    </tr>\n",
       "    <tr>\n",
       "      <th>2</th>\n",
       "      <td>1499997</td>\n",
       "      <td>2023-12-31</td>\n",
       "      <td>420.50</td>\n",
       "      <td>stickerapp</td>\n",
       "      <td>us</td>\n",
       "      <td>USD</td>\n",
       "    </tr>\n",
       "    <tr>\n",
       "      <th>3</th>\n",
       "      <td>1499996</td>\n",
       "      <td>2023-12-31</td>\n",
       "      <td>173.79</td>\n",
       "      <td>stickerapp</td>\n",
       "      <td>se</td>\n",
       "      <td>SEK</td>\n",
       "    </tr>\n",
       "    <tr>\n",
       "      <th>4</th>\n",
       "      <td>1499995</td>\n",
       "      <td>2023-12-31</td>\n",
       "      <td>150.37</td>\n",
       "      <td>stickerapp</td>\n",
       "      <td>de</td>\n",
       "      <td>EUR</td>\n",
       "    </tr>\n",
       "  </tbody>\n",
       "</table>\n",
       "</div>"
      ],
      "text/plain": [
       "   order_id   paid_date  order_total   site_name site_country currency\n",
       "0   1499999  2023-12-31       478.17  stickerapp           de      EUR\n",
       "1   1499998  2023-12-31       505.67  stickerapp           de      EUR\n",
       "2   1499997  2023-12-31       420.50  stickerapp           us      USD\n",
       "3   1499996  2023-12-31       173.79  stickerapp           se      SEK\n",
       "4   1499995  2023-12-31       150.37  stickerapp           de      EUR"
      ]
     },
     "execution_count": 2,
     "metadata": {},
     "output_type": "execute_result"
    }
   ],
   "source": [
    "select(\n",
    "    sql=\"SELECT * FROM orders ORDER BY paid_date DESC\",\n",
    "    params=(),\n",
    "    return_as_pandas=True,\n",
    ").head(5)"
   ]
  },
  {
   "cell_type": "code",
   "execution_count": 3,
   "metadata": {},
   "outputs": [
    {
     "data": {
      "text/html": [
       "<div>\n",
       "<style scoped>\n",
       "    .dataframe tbody tr th:only-of-type {\n",
       "        vertical-align: middle;\n",
       "    }\n",
       "\n",
       "    .dataframe tbody tr th {\n",
       "        vertical-align: top;\n",
       "    }\n",
       "\n",
       "    .dataframe thead th {\n",
       "        text-align: right;\n",
       "    }\n",
       "</style>\n",
       "<table border=\"1\" class=\"dataframe\">\n",
       "  <thead>\n",
       "    <tr style=\"text-align: right;\">\n",
       "      <th></th>\n",
       "      <th>currency_to_sek</th>\n",
       "      <th>date</th>\n",
       "      <th>currency</th>\n",
       "      <th>currency_description</th>\n",
       "    </tr>\n",
       "  </thead>\n",
       "  <tbody>\n",
       "    <tr>\n",
       "      <th>0</th>\n",
       "      <td>13.0163</td>\n",
       "      <td>2024-01-10</td>\n",
       "      <td>GBP</td>\n",
       "      <td>pound sterling</td>\n",
       "    </tr>\n",
       "    <tr>\n",
       "      <th>1</th>\n",
       "      <td>1.0000</td>\n",
       "      <td>2024-01-10</td>\n",
       "      <td>SEK</td>\n",
       "      <td>Used for inverted exchange rate</td>\n",
       "    </tr>\n",
       "    <tr>\n",
       "      <th>2</th>\n",
       "      <td>11.1970</td>\n",
       "      <td>2024-01-10</td>\n",
       "      <td>EUR</td>\n",
       "      <td>Euroland euro</td>\n",
       "    </tr>\n",
       "    <tr>\n",
       "      <th>3</th>\n",
       "      <td>1.5013</td>\n",
       "      <td>2024-01-10</td>\n",
       "      <td>DKK</td>\n",
       "      <td>Danish krone</td>\n",
       "    </tr>\n",
       "    <tr>\n",
       "      <th>4</th>\n",
       "      <td>10.2293</td>\n",
       "      <td>2024-01-10</td>\n",
       "      <td>USD</td>\n",
       "      <td>US dollar</td>\n",
       "    </tr>\n",
       "  </tbody>\n",
       "</table>\n",
       "</div>"
      ],
      "text/plain": [
       "   currency_to_sek        date currency             currency_description\n",
       "0          13.0163  2024-01-10      GBP                   pound sterling\n",
       "1           1.0000  2024-01-10      SEK  Used for inverted exchange rate\n",
       "2          11.1970  2024-01-10      EUR                    Euroland euro\n",
       "3           1.5013  2024-01-10      DKK                     Danish krone\n",
       "4          10.2293  2024-01-10      USD                        US dollar"
      ]
     },
     "execution_count": 3,
     "metadata": {},
     "output_type": "execute_result"
    }
   ],
   "source": [
    "select(\n",
    "    sql = \"SELECT * FROM currency_exchange ORDER BY date DESC\", \n",
    "    params = (), \n",
    "    return_as_pandas=True\n",
    ").head(5)"
   ]
  },
  {
   "cell_type": "code",
   "execution_count": null,
   "metadata": {},
   "outputs": [],
   "source": []
  }
 ],
 "metadata": {
  "kernelspec": {
   "display_name": "Python 3",
   "language": "python",
   "name": "python3"
  },
  "language_info": {
   "codemirror_mode": {
    "name": "ipython",
    "version": 3
   },
   "file_extension": ".py",
   "mimetype": "text/x-python",
   "name": "python",
   "nbconvert_exporter": "python",
   "pygments_lexer": "ipython3",
   "version": "3.9.18"
  }
 },
 "nbformat": 4,
 "nbformat_minor": 2
}
