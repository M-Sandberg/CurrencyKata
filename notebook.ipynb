{
 "cells": [
  {
   "cell_type": "code",
   "execution_count": null,
   "metadata": {},
   "outputs": [],
   "source": [
    "%pip install pandas"
   ]
  },
  {
   "cell_type": "code",
   "execution_count": null,
   "metadata": {},
   "outputs": [],
   "source": [
    "from utils import (\n",
    "    list_select, # Returns a list of selected elements\n",
    "    pd_select, # Returns a pandas dataframe of selected elements\n",
    "    list_insert, # Inserts a list of elements\n",
    "    pd_insert, # Inserts a pandas dataframe of elements\n",
    ") "
   ]
  },
  {
   "cell_type": "code",
   "execution_count": 10,
   "metadata": {},
   "outputs": [
    {
     "data": {
      "text/html": [
       "<div>\n",
       "<style scoped>\n",
       "    .dataframe tbody tr th:only-of-type {\n",
       "        vertical-align: middle;\n",
       "    }\n",
       "\n",
       "    .dataframe tbody tr th {\n",
       "        vertical-align: top;\n",
       "    }\n",
       "\n",
       "    .dataframe thead th {\n",
       "        text-align: right;\n",
       "    }\n",
       "</style>\n",
       "<table border=\"1\" class=\"dataframe\">\n",
       "  <thead>\n",
       "    <tr style=\"text-align: right;\">\n",
       "      <th></th>\n",
       "      <th>order_id</th>\n",
       "      <th>paid_date</th>\n",
       "      <th>order_total</th>\n",
       "      <th>site_name</th>\n",
       "      <th>site_country</th>\n",
       "      <th>currency</th>\n",
       "    </tr>\n",
       "  </thead>\n",
       "  <tbody>\n",
       "    <tr>\n",
       "      <th>0</th>\n",
       "      <td>1249999</td>\n",
       "      <td>2023-12-31</td>\n",
       "      <td>478.17</td>\n",
       "      <td>stickerapp</td>\n",
       "      <td>de</td>\n",
       "      <td>EUR</td>\n",
       "    </tr>\n",
       "    <tr>\n",
       "      <th>1</th>\n",
       "      <td>1249998</td>\n",
       "      <td>2023-12-31</td>\n",
       "      <td>28.18</td>\n",
       "      <td>stickerapp</td>\n",
       "      <td>de</td>\n",
       "      <td>EUR</td>\n",
       "    </tr>\n",
       "    <tr>\n",
       "      <th>2</th>\n",
       "      <td>1249997</td>\n",
       "      <td>2023-12-31</td>\n",
       "      <td>642.12</td>\n",
       "      <td>stickerapp</td>\n",
       "      <td>se</td>\n",
       "      <td>SEK</td>\n",
       "    </tr>\n",
       "    <tr>\n",
       "      <th>3</th>\n",
       "      <td>1249996</td>\n",
       "      <td>2023-12-31</td>\n",
       "      <td>409.67</td>\n",
       "      <td>stickerapp</td>\n",
       "      <td>de</td>\n",
       "      <td>EUR</td>\n",
       "    </tr>\n",
       "    <tr>\n",
       "      <th>4</th>\n",
       "      <td>1249995</td>\n",
       "      <td>2023-12-31</td>\n",
       "      <td>590.95</td>\n",
       "      <td>stickerapp</td>\n",
       "      <td>se</td>\n",
       "      <td>SEK</td>\n",
       "    </tr>\n",
       "  </tbody>\n",
       "</table>\n",
       "</div>"
      ],
      "text/plain": [
       "   order_id   paid_date  order_total   site_name site_country currency\n",
       "0   1249999  2023-12-31       478.17  stickerapp           de      EUR\n",
       "1   1249998  2023-12-31        28.18  stickerapp           de      EUR\n",
       "2   1249997  2023-12-31       642.12  stickerapp           se      SEK\n",
       "3   1249996  2023-12-31       409.67  stickerapp           de      EUR\n",
       "4   1249995  2023-12-31       590.95  stickerapp           se      SEK"
      ]
     },
     "execution_count": 10,
     "metadata": {},
     "output_type": "execute_result"
    }
   ],
   "source": [
    "pd_select(\"SELECT * FROM orders ORDER BY paid_date DESC LIMIT 5 \")"
   ]
  },
  {
   "cell_type": "code",
   "execution_count": 11,
   "metadata": {},
   "outputs": [
    {
     "data": {
      "text/html": [
       "<div>\n",
       "<style scoped>\n",
       "    .dataframe tbody tr th:only-of-type {\n",
       "        vertical-align: middle;\n",
       "    }\n",
       "\n",
       "    .dataframe tbody tr th {\n",
       "        vertical-align: top;\n",
       "    }\n",
       "\n",
       "    .dataframe thead th {\n",
       "        text-align: right;\n",
       "    }\n",
       "</style>\n",
       "<table border=\"1\" class=\"dataframe\">\n",
       "  <thead>\n",
       "    <tr style=\"text-align: right;\">\n",
       "      <th></th>\n",
       "      <th>currency_to_sek</th>\n",
       "      <th>date</th>\n",
       "      <th>currency</th>\n",
       "      <th>currency_description</th>\n",
       "    </tr>\n",
       "  </thead>\n",
       "  <tbody>\n",
       "    <tr>\n",
       "      <th>0</th>\n",
       "      <td>13.0163</td>\n",
       "      <td>2024-01-10</td>\n",
       "      <td>GBP</td>\n",
       "      <td>pound sterling</td>\n",
       "    </tr>\n",
       "    <tr>\n",
       "      <th>1</th>\n",
       "      <td>1.0000</td>\n",
       "      <td>2024-01-10</td>\n",
       "      <td>SEK</td>\n",
       "      <td>Used for inverted exchange rate</td>\n",
       "    </tr>\n",
       "    <tr>\n",
       "      <th>2</th>\n",
       "      <td>11.1970</td>\n",
       "      <td>2024-01-10</td>\n",
       "      <td>EUR</td>\n",
       "      <td>Euroland euro</td>\n",
       "    </tr>\n",
       "    <tr>\n",
       "      <th>3</th>\n",
       "      <td>1.5013</td>\n",
       "      <td>2024-01-10</td>\n",
       "      <td>DKK</td>\n",
       "      <td>Danish krone</td>\n",
       "    </tr>\n",
       "    <tr>\n",
       "      <th>4</th>\n",
       "      <td>10.2293</td>\n",
       "      <td>2024-01-10</td>\n",
       "      <td>USD</td>\n",
       "      <td>US dollar</td>\n",
       "    </tr>\n",
       "  </tbody>\n",
       "</table>\n",
       "</div>"
      ],
      "text/plain": [
       "   currency_to_sek        date currency             currency_description\n",
       "0          13.0163  2024-01-10      GBP                   pound sterling\n",
       "1           1.0000  2024-01-10      SEK  Used for inverted exchange rate\n",
       "2          11.1970  2024-01-10      EUR                    Euroland euro\n",
       "3           1.5013  2024-01-10      DKK                     Danish krone\n",
       "4          10.2293  2024-01-10      USD                        US dollar"
      ]
     },
     "execution_count": 11,
     "metadata": {},
     "output_type": "execute_result"
    }
   ],
   "source": [
    "pd_select(\"SELECT * FROM currency_exchange ORDER BY date DESC LIMIT 5 \")"
   ]
  }
 ],
 "metadata": {
  "kernelspec": {
   "display_name": "venv",
   "language": "python",
   "name": "python3"
  },
  "language_info": {
   "codemirror_mode": {
    "name": "ipython",
    "version": 3
   },
   "file_extension": ".py",
   "mimetype": "text/x-python",
   "name": "python",
   "nbconvert_exporter": "python",
   "pygments_lexer": "ipython3",
   "version": "3.10.0"
  }
 },
 "nbformat": 4,
 "nbformat_minor": 2
}
